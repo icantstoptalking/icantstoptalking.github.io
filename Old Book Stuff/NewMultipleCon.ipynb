{
 "cells": [
  {
   "cell_type": "code",
   "execution_count": 3,
   "metadata": {
    "collapsed": false
   },
   "outputs": [
    {
     "name": "stdout",
     "output_type": "stream",
     "text": [
      "<html>\n",
      " <head>\n",
      "  <title>\n",
      "   Table Of Contents\n",
      "  </title>\n",
      "  <link href=\"c:\\users\\netmier\\documents\\books in progress\\python scripts\\BLStyleSheet.css\" rel=\"stylesheet\" type=\"text/css\"/>\n",
      " </head>\n",
      " <body>\n",
      "  <ul>\n",
      "  </ul>\n",
      " </body>\n",
      "</html>\n",
      "\n"
     ]
    }
   ],
   "source": [
    "import os\n",
    "import glob\n",
    "from bs4 import BeautifulSoup\n",
    "\n",
    "path = \"c:\\\\users\\\\netmier\\\\documents\\\\book conversion\\\\\"\n",
    "\n",
    "for infile in glob.glob(os.path.join(path,\"*.html\")):\n",
    "    markup = (infile)\n",
    "    soup = BeautifulSoup(open(markup,\"r\").read())\n",
    "    with open(\"newdoc.txt\", \"a\") as myfile:\n",
    "        myfile.write(soup.get_text()\n",
    "\n",
    "\n",
    "    \n",
    "print(soup.prettify())"
   ]
  },
  {
   "cell_type": "code",
   "execution_count": null,
   "metadata": {
    "collapsed": true
   },
   "outputs": [],
   "source": []
  }
 ],
 "metadata": {
  "kernelspec": {
   "display_name": "Python 2",
   "language": "python",
   "name": "python2"
  },
  "language_info": {
   "codemirror_mode": {
    "name": "ipython",
    "version": 2
   },
   "file_extension": ".py",
   "mimetype": "text/x-python",
   "name": "python",
   "nbconvert_exporter": "python",
   "pygments_lexer": "ipython2",
   "version": "2.7.6"
  }
 },
 "nbformat": 4,
 "nbformat_minor": 0
}
