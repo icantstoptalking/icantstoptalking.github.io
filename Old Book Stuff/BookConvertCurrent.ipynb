{
 "cells": [
  {
   "cell_type": "code",
   "execution_count": 2,
   "metadata": {
    "collapsed": false
   },
   "outputs": [
    {
     "ename": "SyntaxError",
     "evalue": "invalid syntax (<ipython-input-2-a0bd2147c20f>, line 12)",
     "output_type": "error",
     "traceback": [
      "\u001b[1;36m  File \u001b[1;32m\"<ipython-input-2-a0bd2147c20f>\"\u001b[1;36m, line \u001b[1;32m12\u001b[0m\n\u001b[1;33m    userBookName = for item in args.book_name:\u001b[0m\n\u001b[1;37m                     ^\u001b[0m\n\u001b[1;31mSyntaxError\u001b[0m\u001b[1;31m:\u001b[0m invalid syntax\n"
     ]
    }
   ],
   "source": [
    "# Gloabl variables and import declarations\n",
    "import StringIO\n",
    "import argparse\n",
    "from bs4 import BeautifulSoup\n",
    "# Parser declarations\n",
    "parser = argparse.ArgumentParser()\n",
    "parser.add_argument('book_name', nargs='+', help ='the file name of the book to be converted') \n",
    "parser.add_argument('TOC_name',nargs = '+', help = 'the file name of the TOC to be generated') \n",
    "parser.add_argument('NCX_name',nargs = '+', help = 'the file name of the NCX to be generated') \n",
    "args = parser.parse_args()\n",
    "the_book = open(str(args.book_name), \"w+\")\n",
    "soup = BeautifulSoup(the_book)\n",
    "print(soup.prettify())\n",
    "finalToc = open(str(args.TOC_name), \"w\")\n",
    "finalNcx = open(str(args.NCX_name), \"w\")\n",
    "tempToc = StringIO.StringIO()\n",
    "tempNcx = StringIO.StringIO()\n"
   ]
  },
  {
   "cell_type": "code",
   "execution_count": null,
   "metadata": {
    "collapsed": true
   },
   "outputs": [],
   "source": [
    "print(args.book_name) #I just like being reminded of what you're converting"
   ]
  },
  {
   "cell_type": "code",
   "execution_count": null,
   "metadata": {
    "collapsed": true
   },
   "outputs": [],
   "source": [
    "#TOC and NCX templates\n",
    "TOCTEMPLATE = BeautifulSoup(\"<html><head><title>Table Of Contents</title><link rel='stylesheet' type='text/css' href='BLStyleSheet.css'></head><body><ul></ul></body</html>\")\n",
    "NCXTEMPLATE = BeautifulSoup(\"\"\"\n",
    "<?xml version='1.0' encoding='UTF-8'?>\n",
    "<!DOCTYPE ncx PUBLIC '-//NISO/DTD ncx 2005-1/EN' 'http://www.daisy.org/z3986/2005/ncx-2005-1.dtd'>\n",
    "<ncx xmlsn='http://www.daisy.org z3986/2005/ncx/' version='2005-1' xml:lang='en-US'>\n",
    "<head>\n",
    "<meta content='uid' name='dtb:uid'/>\n",
    "<meta content='1' name='dtb:depth'/>\n",
    "<meta content='0' name='dtb:totalPageCount'/>\n",
    "<meta content='0' name='dtb:maxPageNumber'/>\n",
    "</head>\n",
    "<docTitle><text></text></docTitle>\n",
    "<docAuthor><text></text></docAuthor>\n",
    "<navMap>\n",
    "</navMap>\n",
    "</ncx>\"\"\", \"xml\")"
   ]
  },
  {
   "cell_type": "code",
   "execution_count": null,
   "metadata": {
    "collapsed": true
   },
   "outputs": [],
   "source": [
    "# This is all one loop because weird artifacts and odd problems crop up if you do two loops. \n",
    "NCXTEMPLATE.docTitle.string = soup.title.string #puts the title in\n",
    "NCXTEMPLATE.docAuthor.string = soup.h3.string #puts the author in. I don't like this method, but it works. \n",
    "for tag in reversed(soup.find_all(\"a\", attrs={\"id\":True})):\n",
    "    #tempId = userBookName + \"#\" + (tag[\"id\"])\n",
    "    TOCTEMPLATE.body.ul.insert(0,TOCTEMPLATE.new_tag(\"a\"))\n",
    "    TOCTEMPLATE.a[\"href\"] = userBookName + '#' + (tag[\"id\"])\n",
    "    TOCTEMPLATE.a.string = tag.string\n",
    "    NCXTEMPLATE.navMap.insert(0, NCXTEMPLATE.new_tag(\"navpoint\", id = tag[\"id\"], playorder = 0))\n",
    "    NCXTEMPLATE.navMap.navpoint.insert(2,NCXTEMPLATE.new_tag(\"content\", src = userBookName + '#' + (tag[\"id\"])))\n",
    "    NCXTEMPLATE.navMap.navpoint.insert(0, NCXTEMPLATE.new_tag(\"navLabel\"))\n",
    "    NCXTEMPLATE.navLabel.string = tag.string\n",
    "    NCXTEMPLATE.navLabel.string.wrap(NCXTEMPLATE.new_tag(\"text\"))\n",
    "    \n",
    "\n",
    "for tag in TOCTEMPLATE.find_all(\"a\"): #this wraps the tags with <li> tags.\n",
    "        tag.wrap(TOCTEMPLATE.new_tag(\"li\")) "
   ]
  },
  {
   "cell_type": "code",
   "execution_count": null,
   "metadata": {
    "collapsed": true
   },
   "outputs": [],
   "source": [
    "# This is the counter I use to increment the playorder value. \n",
    "counter = 3 \n",
    "#and this finishes off the NCX by incrementing the playorder value\n",
    "for tag in NCXTEMPLATE.find_all(\"navpoint\"): \n",
    "    tag[\"playorder\"] = counter\n",
    "    counter = counter + 1   \n"
   ]
  },
  {
   "cell_type": "code",
   "execution_count": null,
   "metadata": {
    "collapsed": true
   },
   "outputs": [],
   "source": [
    "print >> finalToc, TOCTEMPLATE.prettify()\n",
    "print >> finalNcx, NCXTEMPLATE.prettify()\n",
    "\n",
    "finalToc.close()\n",
    "finalNcx.close()"
   ]
  }
 ],
 "metadata": {
  "kernelspec": {
   "display_name": "Python 2",
   "language": "python",
   "name": "python2"
  },
  "language_info": {
   "codemirror_mode": {
    "name": "ipython",
    "version": 2
   },
   "file_extension": ".py",
   "mimetype": "text/x-python",
   "name": "python",
   "nbconvert_exporter": "python",
   "pygments_lexer": "ipython2",
   "version": "2.7.6"
  }
 },
 "nbformat": 4,
 "nbformat_minor": 0
}
