{
 "cells": [
  {
   "cell_type": "code",
   "execution_count": 20,
   "metadata": {
    "collapsed": true
   },
   "outputs": [],
   "source": [
    "from bs4 import BeautifulSoup"
   ]
  },
  {
   "cell_type": "code",
   "execution_count": 21,
   "metadata": {
    "collapsed": true
   },
   "outputs": [],
   "source": [
    "import StringIO\n",
    "import argparse\n",
    "import re"
   ]
  },
  {
   "cell_type": "code",
   "execution_count": 22,
   "metadata": {
    "collapsed": false
   },
   "outputs": [
    {
     "data": {
      "text/plain": [
       "_StoreAction(option_strings=[], dest='ncx_name', nargs='+', const=None, default=None, type=None, choices=None, help=None, metavar=None)"
      ]
     },
     "execution_count": 22,
     "metadata": {},
     "output_type": "execute_result"
    }
   ],
   "source": [
    "# Argparse declerations\n",
    "parser = argparse.ArgumentParser()\n",
    "# Argparse Arguments\n",
    "parser.add_argument('books_list', nargs='+')\n",
    "parser.add_argument('output_file', nargs='+')\n",
    "parser.add_argument('toc_name', nargs='+')\n",
    "parser.add_argument('ncx_name', nargs='+' )\n"
   ]
  },
  {
   "cell_type": "code",
   "execution_count": 23,
   "metadata": {
    "collapsed": false
   },
   "outputs": [],
   "source": [
    "#variable declerations\n",
    "# counter for play order\n",
    "counter = 3 \n",
    "# main loop counter\n",
    "mainloop = True"
   ]
  },
  {
   "cell_type": "code",
   "execution_count": 24,
   "metadata": {
    "collapsed": false
   },
   "outputs": [
    {
     "name": "stdout",
     "output_type": "stream",
     "text": [
      "Namespace(books_list=['scanner_input.html'], ncx_name=['ScannerNcx.ncx'], output_file=['A_Scanner_Darkly.html'], toc_name=['ScannerToc.html'])\n"
     ]
    }
   ],
   "source": [
    "args = parser.parse_args('scanner_input.html A_Scanner_Darkly.html ScannerToc.html ScannerNcx.ncx'.split())\n",
    "#print(args)\n",
    "#args = parser.parse_args()\n",
    "print(args)"
   ]
  },
  {
   "cell_type": "code",
   "execution_count": 25,
   "metadata": {
    "collapsed": false
   },
   "outputs": [],
   "source": [
    "# Templates \n",
    "TOCTEMPLATE = BeautifulSoup(\"<html><head><title>Table Of Contents</title><link rel='stylesheet' type='text/css' href='c:\\users\\\\netmier\\documents\\books in progress\\python scripts\\genStyleSheet.css'></head><body><ol></ol></body</html>\")\n",
    "NCXTEMPLATE = BeautifulSoup(\"\"\"\n",
    "<?xml version='1.0' encoding='UTF-8'?>\n",
    "<!DOCTYPE ncx PUBLIC '-//NISO/DTD ncx 2005-1/EN' 'http://www.daisy.org/z3986/2005/ncx-2005-1.dtd'>\n",
    "<ncx xmlsn='http://www.daisy.org z3986/2005/ncx/' version='2005-1' xml:lang='en-US'>\n",
    "<head>\n",
    "<meta content='uid' name='dtb:uid'/>\n",
    "<meta content='1' name='dtb:depth'/>\n",
    "<meta content='0' name='dtb:totalPageCount'/>\n",
    "<meta content='0' name='dtb:maxPageNumber'/>\n",
    "</head>\n",
    "<docTitle><text></text></docTitle>\n",
    "<docAuthor><text></text></docAuthor>\n",
    "<navMap>\n",
    "</navMap>\n",
    "</ncx>\"\"\", \"xml\")"
   ]
  },
  {
   "cell_type": "code",
   "execution_count": 26,
   "metadata": {
    "collapsed": false
   },
   "outputs": [],
   "source": [
    "def harvest(books_list, output_file):\n",
    "    '''used to gather several source files into one large file for processing'''\n",
    "    #outbook = output_file[0]\n",
    "    with open(output_file[0], \"w+\") as outfile:\n",
    "        for bname in books_list:\n",
    "            with open(bname, \"r\") as readfile:\n",
    "                outfile.write(readfile.read() + \"\\n\\n\")\n"
   ]
  },
  {
   "cell_type": "code",
   "execution_count": 27,
   "metadata": {
    "collapsed": true
   },
   "outputs": [],
   "source": [
    "def tocmaker(soup):\n",
    "    '''generates a linked table of contents page'''\n",
    "    global TOCTEMPLATE\n",
    "    for tag in reversed(soup.find_all(\"a\", attrs={\"id\":True})):\n",
    "        TOCTEMPLATE.body.ol.insert(0,TOCTEMPLATE.new_tag(\"a\"))\n",
    "        TOCTEMPLATE.a[\"href\"] = args.output_file[0] + '#' + (tag[\"id\"])\n",
    "        TOCTEMPLATE.a.string = tag.h2.string\n",
    "    for tag in TOCTEMPLATE.find_all(\"a\"): #this wraps the tags with <li> tags.\n",
    "        tag.wrap(TOCTEMPLATE.new_tag(\"li\")) "
   ]
  },
  {
   "cell_type": "code",
   "execution_count": 28,
   "metadata": {
    "collapsed": false
   },
   "outputs": [],
   "source": [
    "def ncxmaker(soup):\n",
    "    '''generates an ncx file for use in ebook creation'''\n",
    "    global counter\n",
    "    global NCXTEMPLATE\n",
    "    for tag in reversed(soup.find_all(\"a\", attrs={\"id\":True})):\n",
    "        NCXTEMPLATE.navMap.insert(0, NCXTEMPLATE.new_tag(\"navpoint\", id = tag[\"id\"], playorder = 0))\n",
    "        NCXTEMPLATE.navMap.navpoint.insert(2,NCXTEMPLATE.new_tag(\"content\", src = args.output_file[0] + '#' + (tag[\"id\"])))\n",
    "        NCXTEMPLATE.navMap.navpoint.insert(0, NCXTEMPLATE.new_tag(\"navLabel\"))\n",
    "        NCXTEMPLATE.navLabel.string = tag.h2.string\n",
    "        NCXTEMPLATE.navLabel.string.wrap(NCXTEMPLATE.new_tag(\"text\"))\n",
    "    for tag in NCXTEMPLATE.find_all(\"navpoint\"): \n",
    "        tag[\"playorder\"] = counter\n",
    "        counter = counter + 1\n",
    "    NCXTEMPLATE.navMap.insert(0, NCXTEMPLATE.new_tag(\"navpoint\", id = \"id\", playorder = 2))\n",
    "    NCXTEMPLATE.navMap.navpoint.insert(2,NCXTEMPLATE.new_tag(\"content\", src = \"\" ))\n",
    "    NCXTEMPLATE.navMap.navpoint.insert(0, NCXTEMPLATE.new_tag(\"navLabel\"))\n",
    "    NCXTEMPLATE.navLabel.string = \"\"\n",
    "    NCXTEMPLATE.navLabel.string.wrap(NCXTEMPLATE.new_tag(\"text\"))\n",
    "    NCXTEMPLATE.navMap.insert(0, NCXTEMPLATE.new_tag(\"navpoint\", id = \"id\", playorder = 1))\n",
    "    NCXTEMPLATE.navMap.navpoint.insert(2,NCXTEMPLATE.new_tag(\"content\", src = \"\" ))\n",
    "    NCXTEMPLATE.navMap.navpoint.insert(0, NCXTEMPLATE.new_tag(\"navLabel\"))\n",
    "    NCXTEMPLATE.navLabel.string = \"\"\n",
    "    NCXTEMPLATE.navLabel.string.wrap(NCXTEMPLATE.new_tag(\"text\"))"
   ]
  },
  {
   "cell_type": "code",
   "execution_count": 29,
   "metadata": {
    "collapsed": false
   },
   "outputs": [],
   "source": [
    "def makefiles():\n",
    "    '''simply takes the templates that were filled out and prints them to files'''\n",
    "    finalToc = open(args.toc_name[0], \"w+\")\n",
    "    finalNcx = open(args.ncx_name[0], \"w+\")\n",
    "    print >> finalToc, TOCTEMPLATE.prettify()\n",
    "    print >> finalNcx, NCXTEMPLATE.prettify()\n",
    "    finalToc.close()\n",
    "    finalNcx.close()"
   ]
  },
  {
   "cell_type": "code",
   "execution_count": null,
   "metadata": {
    "collapsed": true
   },
   "outputs": [],
   "source": [
    "    "
   ]
  },
  {
   "cell_type": "code",
   "execution_count": 30,
   "metadata": {
    "collapsed": false
   },
   "outputs": [
    {
     "ename": "IOError",
     "evalue": "[Errno 2] No such file or directory: 'scanner_input.html'",
     "output_type": "error",
     "traceback": [
      "\u001b[1;31m---------------------------------------------------------------------------\u001b[0m",
      "\u001b[1;31mIOError\u001b[0m                                   Traceback (most recent call last)",
      "\u001b[1;32m<ipython-input-30-f6fbad32f7f6>\u001b[0m in \u001b[0;36m<module>\u001b[1;34m()\u001b[0m\n\u001b[1;32m----> 1\u001b[1;33m \u001b[0mharvest\u001b[0m\u001b[1;33m(\u001b[0m\u001b[0margs\u001b[0m\u001b[1;33m.\u001b[0m\u001b[0mbooks_list\u001b[0m\u001b[1;33m,\u001b[0m\u001b[0margs\u001b[0m\u001b[1;33m.\u001b[0m\u001b[0moutput_file\u001b[0m\u001b[1;33m)\u001b[0m\u001b[1;33m\u001b[0m\u001b[0m\n\u001b[0m",
      "\u001b[1;32m<ipython-input-26-139188db56e9>\u001b[0m in \u001b[0;36mharvest\u001b[1;34m(books_list, output_file)\u001b[0m\n\u001b[0;32m      4\u001b[0m     \u001b[1;32mwith\u001b[0m \u001b[0mopen\u001b[0m\u001b[1;33m(\u001b[0m\u001b[0moutput_file\u001b[0m\u001b[1;33m[\u001b[0m\u001b[1;36m0\u001b[0m\u001b[1;33m]\u001b[0m\u001b[1;33m,\u001b[0m \u001b[1;34m\"w+\"\u001b[0m\u001b[1;33m)\u001b[0m \u001b[1;32mas\u001b[0m \u001b[0moutfile\u001b[0m\u001b[1;33m:\u001b[0m\u001b[1;33m\u001b[0m\u001b[0m\n\u001b[0;32m      5\u001b[0m         \u001b[1;32mfor\u001b[0m \u001b[0mbname\u001b[0m \u001b[1;32min\u001b[0m \u001b[0mbooks_list\u001b[0m\u001b[1;33m:\u001b[0m\u001b[1;33m\u001b[0m\u001b[0m\n\u001b[1;32m----> 6\u001b[1;33m             \u001b[1;32mwith\u001b[0m \u001b[0mopen\u001b[0m\u001b[1;33m(\u001b[0m\u001b[0mbname\u001b[0m\u001b[1;33m,\u001b[0m \u001b[1;34m\"r\"\u001b[0m\u001b[1;33m)\u001b[0m \u001b[1;32mas\u001b[0m \u001b[0mreadfile\u001b[0m\u001b[1;33m:\u001b[0m\u001b[1;33m\u001b[0m\u001b[0m\n\u001b[0m\u001b[0;32m      7\u001b[0m                 \u001b[0moutfile\u001b[0m\u001b[1;33m.\u001b[0m\u001b[0mwrite\u001b[0m\u001b[1;33m(\u001b[0m\u001b[0mreadfile\u001b[0m\u001b[1;33m.\u001b[0m\u001b[0mread\u001b[0m\u001b[1;33m(\u001b[0m\u001b[1;33m)\u001b[0m \u001b[1;33m+\u001b[0m \u001b[1;34m\"\\n\\n\"\u001b[0m\u001b[1;33m)\u001b[0m\u001b[1;33m\u001b[0m\u001b[0m\n",
      "\u001b[1;31mIOError\u001b[0m: [Errno 2] No such file or directory: 'scanner_input.html'"
     ]
    }
   ],
   "source": [
    "harvest(args.books_list,args.output_file)"
   ]
  },
  {
   "cell_type": "code",
   "execution_count": 31,
   "metadata": {
    "collapsed": false
   },
   "outputs": [
    {
     "name": "stdout",
     "output_type": "stream",
     "text": [
      "A_Scanner_Darkly.html\n"
     ]
    }
   ],
   "source": [
    "print(args.output_file[0])"
   ]
  },
  {
   "cell_type": "code",
   "execution_count": 32,
   "metadata": {
    "collapsed": false
   },
   "outputs": [],
   "source": [
    "the_book = open(args.output_file[0])"
   ]
  },
  {
   "cell_type": "code",
   "execution_count": 33,
   "metadata": {
    "collapsed": false
   },
   "outputs": [],
   "source": [
    "soup = BeautifulSoup(the_book)\n"
   ]
  },
  {
   "cell_type": "code",
   "execution_count": 34,
   "metadata": {
    "collapsed": false
   },
   "outputs": [],
   "source": [
    "tocmaker(soup)"
   ]
  },
  {
   "cell_type": "code",
   "execution_count": 35,
   "metadata": {
    "collapsed": false
   },
   "outputs": [],
   "source": [
    "ncxmaker(soup)"
   ]
  },
  {
   "cell_type": "code",
   "execution_count": 36,
   "metadata": {
    "collapsed": false
   },
   "outputs": [],
   "source": [
    "makefiles()"
   ]
  },
  {
   "cell_type": "code",
   "execution_count": null,
   "metadata": {
    "collapsed": true
   },
   "outputs": [],
   "source": []
  },
  {
   "cell_type": "code",
   "execution_count": null,
   "metadata": {
    "collapsed": true
   },
   "outputs": [],
   "source": []
  },
  {
   "cell_type": "code",
   "execution_count": null,
   "metadata": {
    "collapsed": true
   },
   "outputs": [],
   "source": []
  }
 ],
 "metadata": {
  "kernelspec": {
   "display_name": "Python 2",
   "language": "python",
   "name": "python2"
  },
  "language_info": {
   "codemirror_mode": {
    "name": "ipython",
    "version": 2
   },
   "file_extension": ".py",
   "mimetype": "text/x-python",
   "name": "python",
   "nbconvert_exporter": "python",
   "pygments_lexer": "ipython2",
   "version": "2.7.10"
  }
 },
 "nbformat": 4,
 "nbformat_minor": 0
}
