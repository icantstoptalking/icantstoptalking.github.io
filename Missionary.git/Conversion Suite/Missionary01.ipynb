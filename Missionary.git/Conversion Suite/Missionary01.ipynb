{
 "cells": [
  {
   "cell_type": "code",
   "execution_count": 1,
   "metadata": {
    "collapsed": true
   },
   "outputs": [],
   "source": [
    "from bs4 import BeautifulSoup"
   ]
  },
  {
   "cell_type": "code",
   "execution_count": 2,
   "metadata": {
    "collapsed": true
   },
   "outputs": [],
   "source": [
    "import io"
   ]
  },
  {
   "cell_type": "code",
   "execution_count": 3,
   "metadata": {
    "collapsed": true
   },
   "outputs": [],
   "source": [
    "import argparse"
   ]
  },
  {
   "cell_type": "code",
   "execution_count": 4,
   "metadata": {
    "collapsed": false
   },
   "outputs": [
    {
     "name": "stderr",
     "output_type": "stream",
     "text": [
      "usage: __main__.py [-h] [--books BOOKS [BOOKS ...]]\n",
      "                   [--TOC_name TOC_NAME [TOC_NAME ...]]\n",
      "                   [--NCX_name NCX_NAME [NCX_NAME ...]] [--output OUTPUT]\n",
      "__main__.py: error: unrecognized arguments: -f C:\\Users\\Netmier\\AppData\\Roaming\\jupyter\\runtime\\kernel-0c43ae84-7079-4fad-a734-f70fa01a6b5e.json\n"
     ]
    },
    {
     "ename": "SystemExit",
     "evalue": "2",
     "output_type": "error",
     "traceback": [
      "An exception has occurred, use %tb to see the full traceback.\n",
      "\u001b[0;31mSystemExit\u001b[0m\u001b[0;31m:\u001b[0m 2\n"
     ]
    },
    {
     "name": "stderr",
     "output_type": "stream",
     "text": [
      "c:\\users\\netmier\\appdata\\local\\programs\\python\\python35-32\\lib\\site-packages\\IPython\\core\\interactiveshell.py:2889: UserWarning: To exit: use 'exit', 'quit', or Ctrl-D.\n",
      "  warn(\"To exit: use 'exit', 'quit', or Ctrl-D.\", stacklevel=1)\n"
     ]
    }
   ],
   "source": [
    "parser = argparse.ArgumentParser()\n",
    "parser.add_argument('--books', nargs='+', help ='the file name of the book to be converted') \n",
    "parser.add_argument('--TOC_name',nargs = '+', help = 'the file name of the TOC to be generated') \n",
    "parser.add_argument('--NCX_name',nargs = '+', help = 'the file name of the NCX to be generated') \n",
    "parser.add_argument('--output',type=str,  help='name the collected book')\n",
    "args = parser.parse_args()"
   ]
  },
  {
   "cell_type": "code",
   "execution_count": 5,
   "metadata": {
    "collapsed": true
   },
   "outputs": [],
   "source": [
    "#variable declerations\n",
    "# counter for play order\n",
    "counter = 3 \n",
    "# main loop counter\n",
    "mainloop = True"
   ]
  },
  {
   "cell_type": "code",
   "execution_count": 5,
   "metadata": {
    "collapsed": false
   },
   "outputs": [],
   "source": [
    "def harvest(sources,output):#function for gather multiple files together to be used as a Soup object\n",
    "    output = args.output\n",
    "    with open(args.output, \"w+\") as outfile:\n",
    "        for bname in book_list:\n",
    "            with open(bname, \"r\") as readfile:\n",
    "                outfile.write(readfile.read() + \"\\n\\n\")\n",
    "                return masterbook"
   ]
  },
  {
   "cell_type": "code",
   "execution_count": 6,
   "metadata": {
    "collapsed": true
   },
   "outputs": [],
   "source": [
    "def tocmaker():\n",
    "    for tag in reversed(soup.find_all(\"a\", attrs={\"id\":True})):\n",
    "        TOCTEMPLATE.body.ul.insert(0,TOCTEMPLATE.new_tag(\"a\"))\n",
    "        TOCTEMPLATE.a[\"href\"] = userBookName + '#' + (tag[\"id\"])\n",
    "        TOCTEMPLATE.a.string = tag.string\n",
    "    for tag in TOCTEMPLATE.find_all(\"a\"): #this wraps the tags with <li> tags.\n",
    "        tag.wrap(TOCTEMPLATE.new_tag(\"li\")) "
   ]
  },
  {
   "cell_type": "code",
   "execution_count": 7,
   "metadata": {
    "collapsed": false
   },
   "outputs": [],
   "source": [
    "def ncxmaker():\n",
    "    global counter \n",
    "    for tag in reversed(soup.find_all(\"a\", attrs={\"id\":True})):\n",
    "        NCXTEMPLATE.navMap.insert(0, NCXTEMPLATE.new_tag(\"navpoint\", id = tag[\"id\"], playorder = 0))\n",
    "        NCXTEMPLATE.navMap.navpoint.insert(2,NCXTEMPLATE.new_tag(\"content\", src = userBookName + '#' + (tag[\"id\"])))\n",
    "        NCXTEMPLATE.navMap.navpoint.insert(0, NCXTEMPLATE.new_tag(\"navLabel\"))\n",
    "        NCXTEMPLATE.navLabel.string = tag.string\n",
    "        NCXTEMPLATE.navLabel.string.wrap(NCXTEMPLATE.new_tag(\"text\"))\n",
    "    for tag in NCXTEMPLATE.find_all(\"navpoint\"): \n",
    "        tag[\"playorder\"] = counter\n",
    "        counter = counter + 1   "
   ]
  },
  {
   "cell_type": "code",
   "execution_count": 8,
   "metadata": {
    "collapsed": true
   },
   "outputs": [],
   "source": [
    "def makefiles():\n",
    "    print >> finalToc, TOCTEMPLATE.prettify()\n",
    "    print >> finalNcx, NCXTEMPLATE.prettify()\n",
    "    finalToc.close()\n",
    "    finalNcx.close()"
   ]
  },
  {
   "cell_type": "code",
   "execution_count": 9,
   "metadata": {
    "collapsed": false
   },
   "outputs": [],
   "source": [
    "def main():\n",
    "    while mainloop == True:\n",
    "        print(\"What You Want?\")"
   ]
  },
  {
   "cell_type": "markdown",
   "metadata": {},
   "source": [
    "main()"
   ]
  },
  {
   "cell_type": "code",
   "execution_count": null,
   "metadata": {
    "collapsed": true
   },
   "outputs": [],
   "source": [
    "\n"
   ]
  },
  {
   "cell_type": "code",
   "execution_count": null,
   "metadata": {
    "collapsed": true
   },
   "outputs": [],
   "source": []
  }
 ],
 "metadata": {
  "kernelspec": {
   "display_name": "Python 3",
   "language": "python",
   "name": "python3"
  },
  "language_info": {
   "codemirror_mode": {
    "name": "ipython",
    "version": 3
   },
   "file_extension": ".py",
   "mimetype": "text/x-python",
   "name": "python",
   "nbconvert_exporter": "python",
   "pygments_lexer": "ipython3",
   "version": "3.5.2"
  }
 },
 "nbformat": 4,
 "nbformat_minor": 0
}
