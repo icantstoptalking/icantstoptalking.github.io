{
 "cells": [
  {
   "cell_type": "code",
   "execution_count": 127,
   "metadata": {
    "collapsed": true
   },
   "outputs": [],
   "source": [
    "from bs4 import BeautifulSoup"
   ]
  },
  {
   "cell_type": "code",
   "execution_count": 128,
   "metadata": {
    "collapsed": true
   },
   "outputs": [],
   "source": [
    "import StringIO\n",
    "import argparse"
   ]
  },
  {
   "cell_type": "code",
   "execution_count": 132,
   "metadata": {
    "collapsed": false
   },
   "outputs": [
    {
     "data": {
      "text/plain": [
       "_StoreAction(option_strings=[], dest='ncx_name', nargs='+', const=None, default=None, type=None, choices=None, help=None, metavar=None)"
      ]
     },
     "execution_count": 132,
     "metadata": {},
     "output_type": "execute_result"
    }
   ],
   "source": [
    "# Argparse declerations\n",
    "parser = argparse.ArgumentParser()\n",
    "# Argparse Arguments\n",
    "parser.add_argument('books_list', nargs='+')\n",
    "parser.add_argument('output_file', nargs='+')\n",
    "parser.add_argument('toc_name')\n",
    "parser.add_argument('--numbered_toc')\n",
    "parser.add_argument('ncx_name', nargs='+' )\n",
    "\n"
   ]
  },
  {
   "cell_type": "code",
   "execution_count": 133,
   "metadata": {
    "collapsed": false
   },
   "outputs": [],
   "source": [
    "#variable declerations\n",
    "# counter for play order\n",
    "counter = 3 \n",
    "# main loop counter\n",
    "mainloop = True"
   ]
  },
  {
   "cell_type": "code",
   "execution_count": 134,
   "metadata": {
    "collapsed": false
   },
   "outputs": [
    {
     "name": "stdout",
     "output_type": "stream",
     "text": [
      "Namespace(books_list=['scanner_input.html'], ncx_name=['ScannerNcx.ncx'], numbered_toc='False', output_file=['A_Scanner_Darkly.html'], toc_name='ScannerToc.html')\n"
     ]
    }
   ],
   "source": [
    "#args = parser.parse_args('scanner_input.html A_Scanner_Darkly.html ScannerToc.html ScannerNcx.ncx --numbered_toc False'.split())\n",
    "#print(args)\n",
    "args = parser.parse_args()\n",
    "print(args)"
   ]
  },
  {
   "cell_type": "code",
   "execution_count": 135,
   "metadata": {
    "collapsed": false
   },
   "outputs": [],
   "source": [
    "# Templates \n",
    "NUMTOCTEMPLATE = BeautifulSoup(\"<html><head><title>Table Of Contents</title><link rel='stylesheet' type='text/css' href='c:\\users\\\\netmier\\documents\\\\books in progress\\python scripts\\genStyleSheet.css'></head><body><ol></ol></body</html>\")\n",
    "LISTTOCTEMPLATE = BeautifulSoup(\"<html><head><title>Table Of Contents</title><link rel='stylesheet' type='text/css' href='c:\\users\\\\netmier\\documents\\\\books in progress\\python scripts\\genStyleSheet.css'></head><body><ul></ul></body</html>\")\n",
    "\n",
    "NCXTEMPLATE = BeautifulSoup(\"\"\"\n",
    "<?xml version='1.0' encoding='UTF-8'?>\n",
    "<!DOCTYPE ncx PUBLIC '-//NISO/DTD ncx 2005-1/EN' 'http://www.daisy.org/z3986/2005/ncx-2005-1.dtd'>\n",
    "<ncx xmlsn='http://www.daisy.org z3986/2005/ncx/' version='2005-1' xml:lang='en-US'>\n",
    "<head>\n",
    "<meta content='uid' name='dtb:uid'/>\n",
    "<meta content='1' name='dtb:depth'/>\n",
    "<meta content='0' name='dtb:totalPageCount'/>\n",
    "<meta content='0' name='dtb:maxPageNumber'/>\n",
    "</head>\n",
    "<docTitle><text></text></docTitle>\n",
    "<docAuthor><text></text></docAuthor>\n",
    "<navMap>\n",
    "</navMap>\n",
    "</ncx>\"\"\", \"xml\")"
   ]
  },
  {
   "cell_type": "code",
   "execution_count": null,
   "metadata": {
    "collapsed": true
   },
   "outputs": [],
   "source": []
  },
  {
   "cell_type": "code",
   "execution_count": 136,
   "metadata": {
    "collapsed": false
   },
   "outputs": [],
   "source": [
    "def harvest(books_list, output_file):\n",
    "    '''used to gather several source files into one large file for processing'''\n",
    "    #outbook = output_file[0]\n",
    "    with open(output_file[0], \"w+\") as outfile:\n",
    "        for bname in books_list:\n",
    "            with open(bname, \"r\") as readfile:\n",
    "                outfile.write(readfile.read() + \"\\n\\n\")\n"
   ]
  },
  {
   "cell_type": "code",
   "execution_count": 137,
   "metadata": {
    "collapsed": true
   },
   "outputs": [],
   "source": [
    "def tocnumbered(soup):\n",
    "    '''generates a numbered,linked table of contents page'''\n",
    "    global NUMTOCTEMPLATE\n",
    "    finalToc = open(args.toc_name, \"w+\")\n",
    "    for tag in reversed(soup.find_all(\"a\", attrs={\"id\":True})):\n",
    "        NUMTOCTEMPLATE.body.ol.insert(0,NUMTOCTEMPLATE.new_tag(\"a\"))\n",
    "        NUMTOCTEMPLATE.a[\"href\"] = args.output_file[0] + '#' + (tag[\"id\"])\n",
    "        NUMTOCTEMPLATE.a.string = tag.h2.string\n",
    "    for tag in NUMTOCTEMPLATE.find_all(\"a\"): #this wraps the tags with <li> tags.\n",
    "        tag.wrap(NUMTOCTEMPLATE.new_tag(\"li\")) \n",
    "    print >> finalToc, NUMTOCTEMPLATE.prettify()\n",
    "    finalToc.close()"
   ]
  },
  {
   "cell_type": "code",
   "execution_count": 138,
   "metadata": {
    "collapsed": true
   },
   "outputs": [],
   "source": [
    "def toclist(soup):\n",
    "    '''generates a linked table of contents page'''\n",
    "    global LISTTOCTEMPLATE\n",
    "    finalToc = open(args.toc_name, \"w+\")\n",
    "    for tag in reversed(soup.find_all(\"a\", attrs={\"id\":True})):\n",
    "        LISTTOCTEMPLATE.body.ul.insert(0,LISTTOCTEMPLATE.new_tag(\"a\"))\n",
    "        LISTTOCTEMPLATE.a[\"href\"] = args.output_file[0] + '#' + (tag[\"id\"])\n",
    "        LISTTOCTEMPLATE.a.string = tag.h2.string\n",
    "    for tag in LISTTOCTEMPLATE.find_all(\"a\"): #this wraps the tags with <li> tags.\n",
    "        tag.wrap(LISTTOCTEMPLATE.new_tag(\"li\")) \n",
    "    print >> finalToc, LISTTOCTEMPLATE.prettify()\n",
    "    finalToc.close()"
   ]
  },
  {
   "cell_type": "code",
   "execution_count": 139,
   "metadata": {
    "collapsed": false
   },
   "outputs": [],
   "source": [
    "def ncxmaker(soup):\n",
    "    '''generates an ncx file for use in ebook creation'''\n",
    "    global counter\n",
    "    global NCXTEMPLATE\n",
    "    for tag in reversed(soup.find_all(\"a\", attrs={\"id\":True})):\n",
    "        NCXTEMPLATE.navMap.insert(0, NCXTEMPLATE.new_tag(\"navpoint\", id = tag[\"id\"], playorder = 0))\n",
    "        NCXTEMPLATE.navMap.navpoint.insert(2,NCXTEMPLATE.new_tag(\"content\", src = args.output_file[0] + '#' + (tag[\"id\"])))\n",
    "        NCXTEMPLATE.navMap.navpoint.insert(0, NCXTEMPLATE.new_tag(\"navLabel\"))\n",
    "        NCXTEMPLATE.navLabel.string = tag.h2.string\n",
    "        NCXTEMPLATE.navLabel.string.wrap(NCXTEMPLATE.new_tag(\"text\"))\n",
    "    for tag in NCXTEMPLATE.find_all(\"navpoint\"): \n",
    "        tag[\"playorder\"] = counter\n",
    "        counter = counter + 1\n",
    "    NCXTEMPLATE.navMap.insert(0, NCXTEMPLATE.new_tag(\"navpoint\", id = \"id\", playorder = 2))\n",
    "    NCXTEMPLATE.navMap.navpoint.insert(2,NCXTEMPLATE.new_tag(\"content\", src = \"\" ))\n",
    "    NCXTEMPLATE.navMap.navpoint.insert(0, NCXTEMPLATE.new_tag(\"navLabel\"))\n",
    "    NCXTEMPLATE.navLabel.string = \"\"\n",
    "    NCXTEMPLATE.navLabel.string.wrap(NCXTEMPLATE.new_tag(\"text\"))\n",
    "    NCXTEMPLATE.navMap.insert(0, NCXTEMPLATE.new_tag(\"navpoint\", id = \"id\", playorder = 1))\n",
    "    NCXTEMPLATE.navMap.navpoint.insert(2,NCXTEMPLATE.new_tag(\"content\", src = \"\" ))\n",
    "    NCXTEMPLATE.navMap.navpoint.insert(0, NCXTEMPLATE.new_tag(\"navLabel\"))\n",
    "    NCXTEMPLATE.navLabel.string = \"\"\n",
    "    NCXTEMPLATE.navLabel.string.wrap(NCXTEMPLATE.new_tag(\"text\"))"
   ]
  },
  {
   "cell_type": "code",
   "execution_count": 140,
   "metadata": {
    "collapsed": false
   },
   "outputs": [],
   "source": [
    "def makefiles():\n",
    "    '''simply takes the templates that were filled out and prints them to files'''\n",
    "    # finalToc = open(args.toc_name[0], \"w+\")\n",
    "    finalNcx = open(args.ncx_name[0], \"w+\")\n",
    "    #print >> finalToc, TOCTEMPLATE.prettify()\n",
    "    print >> finalNcx, NCXTEMPLATE.prettify()\n",
    "    # finalToc.close()\n",
    "    finalNcx.close()"
   ]
  },
  {
   "cell_type": "code",
   "execution_count": null,
   "metadata": {
    "collapsed": true
   },
   "outputs": [],
   "source": [
    "    "
   ]
  },
  {
   "cell_type": "code",
   "execution_count": 141,
   "metadata": {
    "collapsed": false
   },
   "outputs": [],
   "source": [
    "harvest(args.books_list,args.output_file)"
   ]
  },
  {
   "cell_type": "code",
   "execution_count": 142,
   "metadata": {
    "collapsed": false
   },
   "outputs": [
    {
     "name": "stdout",
     "output_type": "stream",
     "text": [
      "A_Scanner_Darkly.html\n"
     ]
    }
   ],
   "source": [
    "print(args.output_file[0])"
   ]
  },
  {
   "cell_type": "code",
   "execution_count": 143,
   "metadata": {
    "collapsed": false
   },
   "outputs": [],
   "source": [
    "the_book = open(args.output_file[0])"
   ]
  },
  {
   "cell_type": "code",
   "execution_count": 144,
   "metadata": {
    "collapsed": false
   },
   "outputs": [],
   "source": [
    "soup = BeautifulSoup(the_book)\n"
   ]
  },
  {
   "cell_type": "code",
   "execution_count": 145,
   "metadata": {
    "collapsed": false
   },
   "outputs": [],
   "source": [
    "def gettoc():\n",
    "    \n",
    "    if args.numbered_toc == True:\n",
    "        tocnumbered(soup)\n",
    "    else:\n",
    "        toclist(soup)\n",
    "        "
   ]
  },
  {
   "cell_type": "code",
   "execution_count": 146,
   "metadata": {
    "collapsed": false
   },
   "outputs": [],
   "source": [
    "ncxmaker(soup)\n",
    "gettoc()"
   ]
  },
  {
   "cell_type": "code",
   "execution_count": 147,
   "metadata": {
    "collapsed": false
   },
   "outputs": [],
   "source": [
    "makefiles()"
   ]
  },
  {
   "cell_type": "code",
   "execution_count": null,
   "metadata": {
    "collapsed": true
   },
   "outputs": [],
   "source": []
  },
  {
   "cell_type": "code",
   "execution_count": null,
   "metadata": {
    "collapsed": true
   },
   "outputs": [],
   "source": []
  },
  {
   "cell_type": "code",
   "execution_count": null,
   "metadata": {
    "collapsed": true
   },
   "outputs": [],
   "source": []
  }
 ],
 "metadata": {
  "kernelspec": {
   "display_name": "Python 2",
   "language": "python",
   "name": "python2"
  },
  "language_info": {
   "codemirror_mode": {
    "name": "ipython",
    "version": 2
   },
   "file_extension": ".py",
   "mimetype": "text/x-python",
   "name": "python",
   "nbconvert_exporter": "python",
   "pygments_lexer": "ipython2",
   "version": "2.7.6"
  }
 },
 "nbformat": 4,
 "nbformat_minor": 0
}
