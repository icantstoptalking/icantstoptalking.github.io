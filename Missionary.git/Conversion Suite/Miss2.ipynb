{
 "cells": [
  {
   "cell_type": "code",
   "execution_count": 2,
   "metadata": {
    "collapsed": true
   },
   "outputs": [],
   "source": [
    "from bs4 import BeautifulSoup"
   ]
  },
  {
   "cell_type": "code",
   "execution_count": 3,
   "metadata": {
    "collapsed": true
   },
   "outputs": [],
   "source": [
    "import io\n",
    "import argparse"
   ]
  },
  {
   "cell_type": "code",
   "execution_count": null,
   "metadata": {
    "collapsed": true
   },
   "outputs": [],
   "source": []
  },
  {
   "cell_type": "code",
   "execution_count": 4,
   "metadata": {
    "collapsed": false
   },
   "outputs": [
    {
     "data": {
      "text/plain": [
       "_StoreTrueAction(option_strings=['--list_toc'], dest='feature', nargs=0, const=True, default=False, type=None, choices=None, help=None, metavar=None)"
      ]
     },
     "execution_count": 4,
     "metadata": {},
     "output_type": "execute_result"
    }
   ],
   "source": [
    "# Argparse declerations\n",
    "parser = argparse.ArgumentParser()\n",
    "# Argparse Arguments\n",
    "parser.add_argument('books_list', nargs='+')\n",
    "parser.add_argument('output_file', nargs='+')\n",
    "parser.add_argument('toc_name')\n",
    "parser.add_argument('ncx_name', nargs='+' )\n",
    "parser.add_argument('--numbered_toc', dest='feature', action='store_false')\n",
    "parser.add_argument('--list_toc', dest='feature', action='store_true')\n",
    "\n",
    "#Too many arguments, I need to automate file naming. \n",
    "\n",
    "\n"
   ]
  },
  {
   "cell_type": "code",
   "execution_count": 5,
   "metadata": {
    "collapsed": false
   },
   "outputs": [],
   "source": [
    "#variable declerations\n",
    "# counter for play order\n",
    "counter = 3 \n",
    "# main loop counter\n",
    "mainloop = True\n"
   ]
  },
  {
   "cell_type": "code",
   "execution_count": 6,
   "metadata": {
    "collapsed": false
   },
   "outputs": [
    {
     "name": "stdout",
     "output_type": "stream",
     "text": [
      "Namespace(books_list=['maze_input-Copy.txt'], feature=True, ncx_name=['MazeNcx.ncx'], output_file=['A_Maze_Of_Death.txt'], toc_name='MazeToc.html')\n",
      "Namespace(books_list=['maze_input-Copy.txt'], feature=True, ncx_name=['MazeNcx.ncx'], output_file=['A_Maze_Of_Death.txt'], toc_name='MazeToc.html')\n"
     ]
    }
   ],
   "source": [
    "args = parser.parse_args('maze_input-Copy.txt A_Maze_Of_Death.txt MazeToc.html MazeNcx.ncx'.split())\n",
    "print(args)\n",
    "#args = parser.parse_args()\n",
    "# I know this is sloppy, but it works to switch between numbered or non numbered TOCs\n",
    "feature = args.feature\n",
    "parser.set_defaults(feature=True)\n",
    "print(args)"
   ]
  },
  {
   "cell_type": "code",
   "execution_count": 7,
   "metadata": {
    "collapsed": false
   },
   "outputs": [],
   "source": [
    "# Templates \n",
    "NUMTOCTEMPLATE = BeautifulSoup(\"<html><head><title>Table Of Contents</title></head><body><ol></ol></body</html>\", \"html.parser\")\n",
    "LISTTOCTEMPLATE = BeautifulSoup(\"<html><head><title>Table Of Contents</title></head><body><ul></ul></body</html>\", \"html.parser\")\n",
    "\n",
    "NCXTEMPLATE = BeautifulSoup('''\n",
    "<?xml version='1.0' encoding='UTF-8'?>\n",
    "<!DOCTYPE ncx PUBLIC '-//NISO/DTD ncx 2005-1/EN' 'http://www.daisy.org/z3986/2005/ncx-2005-1.dtd'>\n",
    "<ncx xmlsn='http://www.daisy.org z3986/2005/ncx/' version='2005-1' xml:lang='en-US'>\n",
    "<head>\n",
    "<meta content='uid' name='dtb:uid'/>\n",
    "<meta content='1' name='dtb:depth'/>\n",
    "<meta content='0' name='dtb:totalPageCount'/>\n",
    "<meta content='0' name='dtb:maxPageNumber'/>\n",
    "</head>\n",
    "<docTitle><text></text></docTitle>\n",
    "<docAuthor><text></text></docAuthor>\n",
    "<navMap>\n",
    "</navMap>\n",
    "</ncx>''', \"xml\")"
   ]
  },
  {
   "cell_type": "code",
   "execution_count": 9,
   "metadata": {
    "collapsed": false
   },
   "outputs": [
    {
     "ename": "SyntaxError",
     "evalue": "EOF while scanning triple-quoted string literal (<ipython-input-9-7e89b3c14ba6>, line 7)",
     "output_type": "error",
     "traceback": [
      "\u001b[0;36m  File \u001b[0;32m\"<ipython-input-9-7e89b3c14ba6>\"\u001b[0;36m, line \u001b[0;32m7\u001b[0m\n\u001b[0;31m    outfile.write(readfile.read() + \"\\n\\n\")\"\"\"\u001b[0m\n\u001b[0m                                              \n^\u001b[0m\n\u001b[0;31mSyntaxError\u001b[0m\u001b[0;31m:\u001b[0m EOF while scanning triple-quoted string literal\n"
     ]
    }
   ],
   "source": [
    "'''def harvest(books_list, output_file):\n",
    "    #used to gather several source files into one large file for processing\n",
    "    #outbook = output_file[0]\n",
    "    with open(output_file[0], \"w+\") as outfile:\n",
    "        for bname in books_list:\n",
    "            with open(bname, \"r\") as readfile:\n",
    "                outfile.write(readfile.read() + \"\\n\\n\")\"\"\"\n"
   ]
  },
  {
   "cell_type": "code",
   "execution_count": 10,
   "metadata": {
    "collapsed": false
   },
   "outputs": [],
   "source": [
    "def tocnumbered(soup):\n",
    "    '''generates a numbered,linked table of contents page'''\n",
    "    global NUMTOCTEMPLATE\n",
    "    finalToc = open(args.toc_name, \"w+\")\n",
    "    for tag in reversed(soup.find_all(\"a\", attrs={\"id\":True})):\n",
    "        NUMTOCTEMPLATE.body.ol.insert(0,NUMTOCTEMPLATE.new_tag(\"a\"))\n",
    "        NUMTOCTEMPLATE.a[\"href\"] = args.output_file[0] + '#' + (tag[\"id\"])\n",
    "        NUMTOCTEMPLATE.a.string = tag.h2.string\n",
    "    for tag in NUMTOCTEMPLATE.find_all(\"a\"): #this wraps the tags with <li> tags.\n",
    "        tag.wrap(NUMTOCTEMPLATE.new_tag(\"li\")) \n",
    "    print(finalToc, NUMTOCTEMPLATE.prettify())\n",
    "    finalToc.close()"
   ]
  },
  {
   "cell_type": "code",
   "execution_count": 11,
   "metadata": {
    "collapsed": true
   },
   "outputs": [],
   "source": [
    "def toclist(soup):\n",
    "    '''generates a linked table of contents page'''\n",
    "    global LISTTOCTEMPLATE\n",
    "    finalToc = open(args.toc_name, \"w+\")\n",
    "    for tag in reversed(soup.find_all(\"a\", attrs={\"id\":True})):\n",
    "        LISTTOCTEMPLATE.body.ul.insert(0,LISTTOCTEMPLATE.new_tag(\"a\"))\n",
    "        LISTTOCTEMPLATE.a[\"href\"] = args.output_file[0] + '#' + (tag[\"id\"])\n",
    "        LISTTOCTEMPLATE.a.string = tag.h2.string\n",
    "    for tag in LISTTOCTEMPLATE.find_all(\"a\"): #this wraps the tags with <li> tags.\n",
    "        tag.wrap(LISTTOCTEMPLATE.new_tag(\"li\")) \n",
    "    print(finalToc, LISTTOCTEMPLATE.prettify())\n",
    "    finalToc.close()"
   ]
  },
  {
   "cell_type": "code",
   "execution_count": 12,
   "metadata": {
    "collapsed": false
   },
   "outputs": [],
   "source": [
    "def ncxmaker(soup):\n",
    "    '''generates an ncx file for use in ebook creation'''\n",
    "    global counter\n",
    "    global NCXTEMPLATE\n",
    "    for tag in reversed(soup.find_all(\"a\", attrs={\"id\":True})): #finds all <a> tags with the ID attribute\n",
    "        NCXTEMPLATE.navMap.insert(0, NCXTEMPLATE.new_tag(\"navpoint\", id = tag[\"id\"], playorder = 0))#add \"navpoint tag\"\n",
    "        NCXTEMPLATE.navMap.navpoint.insert(2,NCXTEMPLATE.new_tag(\"content\", src = args.output_file[0] + '#' + (tag[\"id\"])))\n",
    "        NCXTEMPLATE.navMap.navpoint.insert(0, NCXTEMPLATE.new_tag(\"navLabel\"))\n",
    "        NCXTEMPLATE.navLabel.string = tag.h2.string\n",
    "        NCXTEMPLATE.navLabel.string.wrap(NCXTEMPLATE.new_tag(\"text\"))\n",
    "    for tag in NCXTEMPLATE.find_all(\"navpoint\"): \n",
    "        tag[\"playorder\"] = counter\n",
    "        counter = counter + 1\n",
    "    NCXTEMPLATE.navMap.insert(0, NCXTEMPLATE.new_tag(\"navpoint\", id = \"id\", playorder = 2))\n",
    "    NCXTEMPLATE.navMap.navpoint.insert(2,NCXTEMPLATE.new_tag(\"content\", src = \"\" ))\n",
    "    NCXTEMPLATE.navMap.navpoint.insert(0, NCXTEMPLATE.new_tag(\"navLabel\"))\n",
    "    NCXTEMPLATE.navLabel.string = \"\"\n",
    "    NCXTEMPLATE.navLabel.string.wrap(NCXTEMPLATE.new_tag(\"text\"))\n",
    "    NCXTEMPLATE.navMap.insert(0, NCXTEMPLATE.new_tag(\"navpoint\", id = \"id\", playorder = 1))\n",
    "    NCXTEMPLATE.navMap.navpoint.insert(2,NCXTEMPLATE.new_tag(\"content\", src = \"\" ))\n",
    "    NCXTEMPLATE.navMap.navpoint.insert(0, NCXTEMPLATE.new_tag(\"navLabel\"))\n",
    "    NCXTEMPLATE.navLabel.string = \"\"\n",
    "    NCXTEMPLATE.navLabel.string.wrap(NCXTEMPLATE.new_tag(\"text\"))"
   ]
  },
  {
   "cell_type": "code",
   "execution_count": 13,
   "metadata": {
    "collapsed": false
   },
   "outputs": [],
   "source": [
    "def makefiles():\n",
    "    '''simply takes the templates that were filled out and prints them to files'''\n",
    "    finalToc = open(args.toc_name[0], \"w+\")\n",
    "    finalNcx = open(args.ncx_name[0], \"w+\")\n",
    "    print(finalToc, LISTTOCTEMPLATE.prettify())\n",
    "    print(finalNcx, NCXTEMPLATE.prettify())\n",
    "    finalToc.close()\n",
    "    finalNcx.close()"
   ]
  },
  {
   "cell_type": "code",
   "execution_count": null,
   "metadata": {
    "collapsed": true
   },
   "outputs": [],
   "source": [
    "    "
   ]
  },
  {
   "cell_type": "code",
   "execution_count": 15,
   "metadata": {
    "collapsed": false
   },
   "outputs": [],
   "source": [
    "#harvest(args.books_list,args.output_file)"
   ]
  },
  {
   "cell_type": "code",
   "execution_count": 16,
   "metadata": {
    "collapsed": false
   },
   "outputs": [
    {
     "name": "stdout",
     "output_type": "stream",
     "text": [
      "A_Maze_Of_Death.txt\n"
     ]
    }
   ],
   "source": [
    "print(args.output_file[0])"
   ]
  },
  {
   "cell_type": "code",
   "execution_count": 17,
   "metadata": {
    "collapsed": false
   },
   "outputs": [],
   "source": [
    "the_book = open(args.output_file[0])"
   ]
  },
  {
   "cell_type": "code",
   "execution_count": 18,
   "metadata": {
    "collapsed": false
   },
   "outputs": [],
   "source": [
    "soup = BeautifulSoup(the_book, \"lxml\")\n"
   ]
  },
  {
   "cell_type": "code",
   "execution_count": 19,
   "metadata": {
    "collapsed": false
   },
   "outputs": [
    {
     "data": {
      "text/plain": [
       "'if feature is True:\\n    toclist(soup)\\nif feature is False:\\n    tocnumbered(soup)\\n    '"
      ]
     },
     "execution_count": 19,
     "metadata": {},
     "output_type": "execute_result"
    }
   ],
   "source": [
    "'''if feature is True:\n",
    "    toclist(soup)\n",
    "if feature is False:\n",
    "    tocnumbered(soup)\n",
    "    '''"
   ]
  },
  {
   "cell_type": "code",
   "execution_count": 20,
   "metadata": {
    "collapsed": false
   },
   "outputs": [
    {
     "name": "stdout",
     "output_type": "stream",
     "text": [
      "(<open file 'MazeToc.html', mode 'w+' at 0x0000000004567D20>, u'<html>\\n <head>\\n  <title>\\n   Table Of Contents\\n  </title>\\n </head>\\n <body>\\n  <ul>\\n  </ul>\\n </body>\\n</html>')\n"
     ]
    }
   ],
   "source": [
    "ncxmaker(soup)\n",
    "toclist(soup)\n"
   ]
  },
  {
   "cell_type": "code",
   "execution_count": 21,
   "metadata": {
    "collapsed": false
   },
   "outputs": [
    {
     "name": "stdout",
     "output_type": "stream",
     "text": [
      "(<open file 'M', mode 'w+' at 0x0000000004567D20>, u'<html>\\n <head>\\n  <title>\\n   Table Of Contents\\n  </title>\\n </head>\\n <body>\\n  <ul>\\n  </ul>\\n </body>\\n</html>')\n",
      "(<open file 'MazeNcx.ncx', mode 'w+' at 0x0000000004567DB0>, u'<?xml version=\"1.0\" encoding=\"utf-8\"?>\\n<?xml version=\\'1.0\\' encoding=\\'UTF-8\\'?>\\n<!DOCTYPE ncx PUBLIC \"-//NISO/DTD ncx 2005-1/EN\" \"http://www.daisy.org/z3986/2005/ncx-2005-1.dtd\">\\n<ncx version=\"2005-1\" xml:lang=\"en-US\" xmlsn=\"http://www.daisy.org z3986/2005/ncx/\">\\n <head>\\n  <meta content=\"uid\" name=\"dtb:uid\"/>\\n  <meta content=\"1\" name=\"dtb:depth\"/>\\n  <meta content=\"0\" name=\"dtb:totalPageCount\"/>\\n  <meta content=\"0\" name=\"dtb:maxPageNumber\"/>\\n </head>\\n <docTitle>\\n  <text/>\\n </docTitle>\\n <docAuthor>\\n  <text/>\\n </docAuthor>\\n <navMap>\\n  <navpoint id=\"id\" playorder=\"1\">\\n   <navLabel>\\n    <text>\\n    </text>\\n   </navLabel>\\n   <content src=\"\"/>\\n  </navpoint>\\n  <navpoint id=\"id\" playorder=\"2\">\\n   <navLabel>\\n    <text>\\n    </text>\\n   </navLabel>\\n   <content src=\"\"/>\\n  </navpoint>\\n </navMap>\\n</ncx>')\n"
     ]
    }
   ],
   "source": [
    "makefiles()"
   ]
  },
  {
   "cell_type": "code",
   "execution_count": null,
   "metadata": {
    "collapsed": true
   },
   "outputs": [],
   "source": []
  },
  {
   "cell_type": "code",
   "execution_count": null,
   "metadata": {
    "collapsed": true
   },
   "outputs": [],
   "source": []
  },
  {
   "cell_type": "code",
   "execution_count": null,
   "metadata": {
    "collapsed": true
   },
   "outputs": [],
   "source": []
  },
  {
   "cell_type": "code",
   "execution_count": null,
   "metadata": {
    "collapsed": true
   },
   "outputs": [],
   "source": []
  },
  {
   "cell_type": "code",
   "execution_count": null,
   "metadata": {
    "collapsed": true
   },
   "outputs": [],
   "source": []
  }
 ],
 "metadata": {
  "anaconda-cloud": {},
  "kernelspec": {
   "display_name": "Python [conda root]",
   "language": "python",
   "name": "conda-root-py"
  },
  "language_info": {
   "codemirror_mode": {
    "name": "ipython",
    "version": 2
   },
   "file_extension": ".py",
   "mimetype": "text/x-python",
   "name": "python",
   "nbconvert_exporter": "python",
   "pygments_lexer": "ipython2",
   "version": "2.7.12"
  }
 },
 "nbformat": 4,
 "nbformat_minor": 0
}
